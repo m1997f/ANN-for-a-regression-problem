{
 "cells": [
  {
   "cell_type": "markdown",
   "metadata": {
    "id": "3cbb7fRy-eyr"
   },
   "source": [
    "# Artificial Neural Network"
   ]
  },
  {
   "cell_type": "markdown",
   "metadata": {
    "id": "8sNDnxE2-pwE"
   },
   "source": [
    "### Importing the libraries"
   ]
  },
  {
   "cell_type": "code",
   "execution_count": 1,
   "metadata": {
    "id": "lxChR1Rk-umf"
   },
   "outputs": [],
   "source": [
    "import numpy as np\n",
    "import pandas as pd\n",
    "import tensorflow as tf"
   ]
  },
  {
   "cell_type": "code",
   "execution_count": 2,
   "metadata": {
    "colab": {
     "base_uri": "https://localhost:8080/",
     "height": 34
    },
    "id": "uBTqR3nacj0e",
    "outputId": "4c0bd183-e424-429a-9fba-ceb841c06888"
   },
   "outputs": [
    {
     "data": {
      "text/plain": [
       "'2.3.1'"
      ]
     },
     "execution_count": 2,
     "metadata": {},
     "output_type": "execute_result"
    }
   ],
   "source": [
    "tf.__version__"
   ]
  },
  {
   "cell_type": "markdown",
   "metadata": {
    "id": "AG3FQEch-yuA"
   },
   "source": [
    "## Part 1 - Data Preprocessing"
   ]
  },
  {
   "cell_type": "markdown",
   "metadata": {
    "id": "-4zq8Mza_D9O"
   },
   "source": [
    "### Importing the dataset"
   ]
  },
  {
   "cell_type": "code",
   "execution_count": 3,
   "metadata": {
    "id": "B9CV13Co_HHM"
   },
   "outputs": [],
   "source": [
    "dataset = pd.read_csv('Data.csv')\n",
    "X = dataset.iloc[:, :-1].values\n",
    "y = dataset.iloc[:, -1].values"
   ]
  },
  {
   "cell_type": "markdown",
   "metadata": {
    "id": "VC6omXel_Up0"
   },
   "source": [
    "### Splitting the dataset into the Training set and Test set"
   ]
  },
  {
   "cell_type": "code",
   "execution_count": 4,
   "metadata": {
    "id": "L5edeb2r_agx"
   },
   "outputs": [],
   "source": [
    "from sklearn.model_selection import train_test_split\n",
    "X_train, X_test, y_train, y_test = train_test_split(X, y, test_size = 0.2, random_state = 0)"
   ]
  },
  {
   "cell_type": "markdown",
   "metadata": {
    "id": "_mSLlAT9_eyI"
   },
   "source": [
    "## Part 2 - Building the ANN"
   ]
  },
  {
   "cell_type": "markdown",
   "metadata": {
    "id": "CsBULd_f_wLY"
   },
   "source": [
    "### Initializing the ANN"
   ]
  },
  {
   "cell_type": "code",
   "execution_count": 5,
   "metadata": {
    "id": "J6Hd97Ls__Nz"
   },
   "outputs": [],
   "source": [
    "ann = tf.keras.models.Sequential()"
   ]
  },
  {
   "cell_type": "markdown",
   "metadata": {
    "id": "iitAFJS_ABUn"
   },
   "source": [
    "### Adding the input layer and the first hidden layer"
   ]
  },
  {
   "cell_type": "code",
   "execution_count": 6,
   "metadata": {
    "id": "ksO_Vv40AHix"
   },
   "outputs": [],
   "source": [
    "ann.add(tf.keras.layers.Dense(units=6, activation='relu'))"
   ]
  },
  {
   "cell_type": "markdown",
   "metadata": {
    "id": "-lb4kK_wAKbs"
   },
   "source": [
    "### Adding the second hidden layer"
   ]
  },
  {
   "cell_type": "code",
   "execution_count": 7,
   "metadata": {
    "id": "c2357OqEAQOQ"
   },
   "outputs": [],
   "source": [
    "ann.add(tf.keras.layers.Dense(units=6, activation='relu'))"
   ]
  },
  {
   "cell_type": "markdown",
   "metadata": {
    "id": "jwMOmKb3AdBY"
   },
   "source": [
    "### Adding the output layer"
   ]
  },
  {
   "cell_type": "code",
   "execution_count": 8,
   "metadata": {
    "id": "YFATpzsUAkLL"
   },
   "outputs": [],
   "source": [
    "ann.add(tf.keras.layers.Dense(units=1))"
   ]
  },
  {
   "cell_type": "markdown",
   "metadata": {
    "id": "fq7e4fF6A1yy"
   },
   "source": [
    "## Part 3 - Training the ANN"
   ]
  },
  {
   "cell_type": "markdown",
   "metadata": {
    "id": "qDeylAs2An25"
   },
   "source": [
    "### Compiling the ANN"
   ]
  },
  {
   "cell_type": "code",
   "execution_count": 9,
   "metadata": {
    "id": "pesgbWlCAtB4"
   },
   "outputs": [],
   "source": [
    "ann.compile(optimizer = 'adam', loss = 'mean_squared_error')"
   ]
  },
  {
   "cell_type": "markdown",
   "metadata": {
    "id": "YjVuiybYOo7r"
   },
   "source": [
    "### Training the ANN model on the Training set"
   ]
  },
  {
   "cell_type": "code",
   "execution_count": 10,
   "metadata": {
    "colab": {
     "base_uri": "https://localhost:8080/",
     "height": 1000
    },
    "id": "c_vV-tiiA5zn",
    "outputId": "4a2b6ee6-ed75-4698-9069-b250e613803f"
   },
   "outputs": [
    {
     "name": "stdout",
     "output_type": "stream",
     "text": [
      "Epoch 1/100\n",
      "240/240 [==============================] - 0s 594us/step - loss: 11808.5850\n",
      "Epoch 2/100\n",
      "240/240 [==============================] - 0s 661us/step - loss: 267.6925\n",
      "Epoch 3/100\n",
      "240/240 [==============================] - 0s 2ms/step - loss: 258.5215\n",
      "Epoch 4/100\n",
      "240/240 [==============================] - 0s 2ms/step - loss: 246.6338\n",
      "Epoch 5/100\n",
      "240/240 [==============================] - 0s 2ms/step - loss: 232.7082\n",
      "Epoch 6/100\n",
      "240/240 [==============================] - 0s 2ms/step - loss: 217.2289\n",
      "Epoch 7/100\n",
      "240/240 [==============================] - 0s 2ms/step - loss: 199.4078\n",
      "Epoch 8/100\n",
      "240/240 [==============================] - 0s 2ms/step - loss: 180.7328\n",
      "Epoch 9/100\n",
      "240/240 [==============================] - 0s 2ms/step - loss: 160.9879\n",
      "Epoch 10/100\n",
      "240/240 [==============================] - 0s 2ms/step - loss: 140.8738\n",
      "Epoch 11/100\n",
      "240/240 [==============================] - 0s 2ms/step - loss: 121.1055\n",
      "Epoch 12/100\n",
      "240/240 [==============================] - 0s 2ms/step - loss: 102.4080\n",
      "Epoch 13/100\n",
      "240/240 [==============================] - 0s 2ms/step - loss: 85.5775\n",
      "Epoch 14/100\n",
      "240/240 [==============================] - 0s 2ms/step - loss: 71.2079\n",
      "Epoch 15/100\n",
      "240/240 [==============================] - 0s 2ms/step - loss: 59.9243\n",
      "Epoch 16/100\n",
      "240/240 [==============================] - 1s 3ms/step - loss: 51.7231\n",
      "Epoch 17/100\n",
      "240/240 [==============================] - 1s 3ms/step - loss: 46.1201\n",
      "Epoch 18/100\n",
      "240/240 [==============================] - 1s 3ms/step - loss: 42.4663\n",
      "Epoch 19/100\n",
      "240/240 [==============================] - 1s 3ms/step - loss: 40.1088\n",
      "Epoch 20/100\n",
      "240/240 [==============================] - 1s 3ms/step - loss: 38.8077\n",
      "Epoch 21/100\n",
      "240/240 [==============================] - 1s 3ms/step - loss: 37.4723\n",
      "Epoch 22/100\n",
      "240/240 [==============================] - 1s 3ms/step - loss: 36.4594\n",
      "Epoch 23/100\n",
      "240/240 [==============================] - 1s 3ms/step - loss: 36.1630\n",
      "Epoch 24/100\n",
      "240/240 [==============================] - 1s 3ms/step - loss: 34.9101\n",
      "Epoch 25/100\n",
      "240/240 [==============================] - 1s 3ms/step - loss: 34.6709\n",
      "Epoch 26/100\n",
      "240/240 [==============================] - 1s 3ms/step - loss: 33.8832\n",
      "Epoch 27/100\n",
      "240/240 [==============================] - 1s 3ms/step - loss: 33.5322\n",
      "Epoch 28/100\n",
      "240/240 [==============================] - 1s 3ms/step - loss: 32.7601\n",
      "Epoch 29/100\n",
      "240/240 [==============================] - 1s 3ms/step - loss: 32.5015\n",
      "Epoch 30/100\n",
      "240/240 [==============================] - 0s 2ms/step - loss: 31.6381\n",
      "Epoch 31/100\n",
      "240/240 [==============================] - 1s 3ms/step - loss: 31.3296\n",
      "Epoch 32/100\n",
      "240/240 [==============================] - 1s 2ms/step - loss: 31.0461\n",
      "Epoch 33/100\n",
      "240/240 [==============================] - 0s 1ms/step - loss: 30.2878\n",
      "Epoch 34/100\n",
      "240/240 [==============================] - 0s 2ms/step - loss: 30.2011\n",
      "Epoch 35/100\n",
      "240/240 [==============================] - 1s 2ms/step - loss: 30.0935\n",
      "Epoch 36/100\n",
      "240/240 [==============================] - 1s 3ms/step - loss: 29.3725\n",
      "Epoch 37/100\n",
      "240/240 [==============================] - 1s 3ms/step - loss: 28.5022\n",
      "Epoch 38/100\n",
      "240/240 [==============================] - 1s 3ms/step - loss: 28.3875\n",
      "Epoch 39/100\n",
      "240/240 [==============================] - 1s 3ms/step - loss: 28.3263\n",
      "Epoch 40/100\n",
      "240/240 [==============================] - 1s 3ms/step - loss: 28.1446\n",
      "Epoch 41/100\n",
      "240/240 [==============================] - 1s 3ms/step - loss: 27.8400\n",
      "Epoch 42/100\n",
      "240/240 [==============================] - 1s 3ms/step - loss: 27.8103\n",
      "Epoch 43/100\n",
      "240/240 [==============================] - 1s 3ms/step - loss: 27.7226\n",
      "Epoch 44/100\n",
      "240/240 [==============================] - 1s 3ms/step - loss: 27.3107\n",
      "Epoch 45/100\n",
      "240/240 [==============================] - 1s 3ms/step - loss: 27.2704\n",
      "Epoch 46/100\n",
      "240/240 [==============================] - 1s 3ms/step - loss: 27.0993\n",
      "Epoch 47/100\n",
      "240/240 [==============================] - 1s 3ms/step - loss: 27.0790\n",
      "Epoch 48/100\n",
      "240/240 [==============================] - 1s 3ms/step - loss: 28.1996\n",
      "Epoch 49/100\n",
      "240/240 [==============================] - 1s 3ms/step - loss: 26.9166\n",
      "Epoch 50/100\n",
      "240/240 [==============================] - 1s 3ms/step - loss: 27.0172\n",
      "Epoch 51/100\n",
      "240/240 [==============================] - 1s 3ms/step - loss: 26.9627\n",
      "Epoch 52/100\n",
      "240/240 [==============================] - 1s 2ms/step - loss: 27.5340\n",
      "Epoch 53/100\n",
      "240/240 [==============================] - 1s 3ms/step - loss: 27.4203\n",
      "Epoch 54/100\n",
      "240/240 [==============================] - 1s 3ms/step - loss: 26.8132\n",
      "Epoch 55/100\n",
      "240/240 [==============================] - 1s 3ms/step - loss: 27.1227\n",
      "Epoch 56/100\n",
      "240/240 [==============================] - 1s 3ms/step - loss: 26.7044\n",
      "Epoch 57/100\n",
      "240/240 [==============================] - 1s 3ms/step - loss: 27.2623\n",
      "Epoch 58/100\n",
      "240/240 [==============================] - 1s 3ms/step - loss: 26.7658\n",
      "Epoch 59/100\n",
      "240/240 [==============================] - 1s 2ms/step - loss: 26.6829\n",
      "Epoch 60/100\n",
      "240/240 [==============================] - 0s 2ms/step - loss: 27.2423\n",
      "Epoch 61/100\n",
      "240/240 [==============================] - 1s 2ms/step - loss: 27.1367\n",
      "Epoch 62/100\n",
      "240/240 [==============================] - 1s 3ms/step - loss: 27.0645\n",
      "Epoch 63/100\n",
      "240/240 [==============================] - 1s 3ms/step - loss: 27.1565\n",
      "Epoch 64/100\n",
      "240/240 [==============================] - 1s 2ms/step - loss: 26.8086\n",
      "Epoch 65/100\n",
      "240/240 [==============================] - 1s 2ms/step - loss: 27.5296\n",
      "Epoch 66/100\n",
      "240/240 [==============================] - 1s 3ms/step - loss: 26.5197\n",
      "Epoch 67/100\n",
      "240/240 [==============================] - 1s 3ms/step - loss: 26.7567\n",
      "Epoch 68/100\n",
      "240/240 [==============================] - 1s 3ms/step - loss: 26.9353\n",
      "Epoch 69/100\n",
      "240/240 [==============================] - 1s 3ms/step - loss: 26.8813\n",
      "Epoch 70/100\n",
      "240/240 [==============================] - 1s 3ms/step - loss: 26.5272\n",
      "Epoch 71/100\n",
      "240/240 [==============================] - 1s 3ms/step - loss: 26.8613\n",
      "Epoch 72/100\n",
      "240/240 [==============================] - 1s 3ms/step - loss: 27.4198\n",
      "Epoch 73/100\n",
      "240/240 [==============================] - 1s 3ms/step - loss: 26.7094\n",
      "Epoch 74/100\n",
      "240/240 [==============================] - 1s 3ms/step - loss: 27.2699\n",
      "Epoch 75/100\n",
      "240/240 [==============================] - 1s 3ms/step - loss: 26.7557\n",
      "Epoch 76/100\n",
      "240/240 [==============================] - 1s 3ms/step - loss: 26.7101\n",
      "Epoch 77/100\n",
      "240/240 [==============================] - 1s 3ms/step - loss: 26.9631\n",
      "Epoch 78/100\n",
      "240/240 [==============================] - 1s 3ms/step - loss: 26.6888\n",
      "Epoch 79/100\n",
      "240/240 [==============================] - 1s 3ms/step - loss: 27.2321\n",
      "Epoch 80/100\n",
      "240/240 [==============================] - 1s 3ms/step - loss: 27.4235\n",
      "Epoch 81/100\n",
      "240/240 [==============================] - 1s 3ms/step - loss: 26.7711\n",
      "Epoch 82/100\n",
      "240/240 [==============================] - 1s 3ms/step - loss: 27.3973\n",
      "Epoch 83/100\n",
      "240/240 [==============================] - 1s 3ms/step - loss: 26.8627\n",
      "Epoch 84/100\n",
      "240/240 [==============================] - 1s 3ms/step - loss: 27.2523\n",
      "Epoch 85/100\n",
      "240/240 [==============================] - 1s 3ms/step - loss: 26.8739\n",
      "Epoch 86/100\n",
      "240/240 [==============================] - 0s 2ms/step - loss: 26.6436\n",
      "Epoch 87/100\n",
      "240/240 [==============================] - 1s 3ms/step - loss: 27.1376\n",
      "Epoch 88/100\n",
      "240/240 [==============================] - 1s 3ms/step - loss: 26.5820\n",
      "Epoch 89/100\n",
      "240/240 [==============================] - 1s 3ms/step - loss: 27.0576\n",
      "Epoch 90/100\n",
      "240/240 [==============================] - 1s 3ms/step - loss: 27.1265\n",
      "Epoch 91/100\n",
      "240/240 [==============================] - 1s 3ms/step - loss: 26.6723\n",
      "Epoch 92/100\n",
      "240/240 [==============================] - 1s 3ms/step - loss: 27.0528\n",
      "Epoch 93/100\n",
      "240/240 [==============================] - 1s 3ms/step - loss: 27.0744\n",
      "Epoch 94/100\n",
      "240/240 [==============================] - 1s 3ms/step - loss: 26.7955\n",
      "Epoch 95/100\n",
      "240/240 [==============================] - 1s 3ms/step - loss: 26.7842\n",
      "Epoch 96/100\n",
      "240/240 [==============================] - 1s 3ms/step - loss: 26.7244\n",
      "Epoch 97/100\n",
      "240/240 [==============================] - 1s 3ms/step - loss: 27.3919\n",
      "Epoch 98/100\n",
      "240/240 [==============================] - 1s 3ms/step - loss: 27.3258\n",
      "Epoch 99/100\n",
      "240/240 [==============================] - 1s 3ms/step - loss: 27.3450\n",
      "Epoch 100/100\n",
      "240/240 [==============================] - 1s 3ms/step - loss: 26.7003\n"
     ]
    },
    {
     "data": {
      "text/plain": [
       "<tensorflow.python.keras.callbacks.History at 0x2dc45da3b80>"
      ]
     },
     "execution_count": 10,
     "metadata": {},
     "output_type": "execute_result"
    }
   ],
   "source": [
    "ann.fit(X_train, y_train, batch_size = 32, epochs = 100)"
   ]
  },
  {
   "cell_type": "markdown",
   "metadata": {
    "id": "0H0zKKNEBLD5"
   },
   "source": [
    "### Predicting the results of the Test set"
   ]
  },
  {
   "cell_type": "code",
   "execution_count": 11,
   "metadata": {
    "colab": {
     "base_uri": "https://localhost:8080/",
     "height": 134
    },
    "id": "IA0yApEmBG1X",
    "outputId": "cb981e1f-9204-4a2a-fece-9d66a6919189"
   },
   "outputs": [
    {
     "name": "stdout",
     "output_type": "stream",
     "text": [
      "[[430.49 431.23]\n",
      " [461.64 460.01]\n",
      " [465.14 461.14]\n",
      " ...\n",
      " [472.42 473.26]\n",
      " [439.12 438.  ]\n",
      " [458.4  463.28]]\n"
     ]
    }
   ],
   "source": [
    "y_pred = ann.predict(X_test)\n",
    "np.set_printoptions(precision=2)\n",
    "print(np.concatenate((y_pred.reshape(len(y_pred),1), y_test.reshape(len(y_test),1)),1))"
   ]
  },
  {
   "cell_type": "markdown",
   "metadata": {},
   "source": [
    "### Evaluating the Model Performance"
   ]
  },
  {
   "cell_type": "code",
   "execution_count": 13,
   "metadata": {},
   "outputs": [
    {
     "name": "stdout",
     "output_type": "stream",
     "text": [
      "0.9142325796769888\n"
     ]
    }
   ],
   "source": [
    "from sklearn.metrics import r2_score\n",
    "r2_score(y_test, y_pred)\n",
    "R_squared = r2_score(y_test, y_pred)\n",
    "print(R_squared)"
   ]
  }
 ],
 "metadata": {
  "colab": {
   "collapsed_sections": [],
   "name": "Artificial Neural Network",
   "provenance": [],
   "toc_visible": true
  },
  "kernelspec": {
   "display_name": "Python 3",
   "language": "python",
   "name": "python3"
  },
  "language_info": {
   "codemirror_mode": {
    "name": "ipython",
    "version": 3
   },
   "file_extension": ".py",
   "mimetype": "text/x-python",
   "name": "python",
   "nbconvert_exporter": "python",
   "pygments_lexer": "ipython3",
   "version": "3.8.5"
  }
 },
 "nbformat": 4,
 "nbformat_minor": 1
}
